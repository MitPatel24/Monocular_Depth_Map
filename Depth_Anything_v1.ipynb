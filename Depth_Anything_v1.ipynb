{
  "nbformat": 4,
  "nbformat_minor": 0,
  "metadata": {
    "colab": {
      "provenance": []
    },
    "kernelspec": {
      "name": "python3",
      "display_name": "Python 3"
    },
    "language_info": {
      "name": "python"
    }
  },
  "cells": [
    {
      "cell_type": "markdown",
      "source": [
        "New"
      ],
      "metadata": {
        "id": "gqEZwH8T4mNv"
      }
    },
    {
      "cell_type": "code",
      "source": [
        "!git clone https://github.com/LiheYoung/Depth-Anything"
      ],
      "metadata": {
        "colab": {
          "base_uri": "https://localhost:8080/"
        },
        "id": "sv7AJVIf4hm2",
        "outputId": "46067e8c-4e9a-4558-bbab-138a54a9a829"
      },
      "execution_count": null,
      "outputs": [
        {
          "output_type": "stream",
          "name": "stdout",
          "text": [
            "fatal: destination path 'Depth-Anything' already exists and is not an empty directory.\n"
          ]
        }
      ]
    },
    {
      "cell_type": "code",
      "source": [
        "%cd \"Depth-Anything\"\n",
        "!pwd"
      ],
      "metadata": {
        "id": "gOKb8-Rvpfae",
        "colab": {
          "base_uri": "https://localhost:8080/"
        },
        "outputId": "e335a121-4b93-4c23-ee33-8ac21bb72acc"
      },
      "execution_count": null,
      "outputs": [
        {
          "output_type": "stream",
          "name": "stdout",
          "text": [
            "/content/Depth-Anything\n",
            "/content/Depth-Anything\n"
          ]
        }
      ]
    },
    {
      "cell_type": "code",
      "source": [
        "!python run.py --encoder vits --img-path /content/my.jpg --outdir /content/output --pred-only --grayscale"
      ],
      "metadata": {
        "colab": {
          "base_uri": "https://localhost:8080/"
        },
        "id": "uTnTQSDe4vq0",
        "outputId": "41dacf40-c08f-4c21-a945-d389e49005b6"
      },
      "execution_count": null,
      "outputs": [
        {
          "output_type": "stream",
          "name": "stdout",
          "text": [
            "xFormers not available\n",
            "xFormers not available\n",
            "Total parameters: 24.79M\n",
            "100% 1/1 [00:06<00:00,  6.80s/it]\n"
          ]
        }
      ]
    },
    {
      "cell_type": "code",
      "source": [],
      "metadata": {
        "id": "_NgZMLi15gWt"
      },
      "execution_count": null,
      "outputs": []
    }
  ]
}